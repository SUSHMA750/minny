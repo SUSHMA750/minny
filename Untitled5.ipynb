{
  "nbformat": 4,
  "nbformat_minor": 0,
  "metadata": {
    "colab": {
      "provenance": [],
      "authorship_tag": "ABX9TyOjAAdJOmdpPnzcBZt+27c8",
      "include_colab_link": true
    },
    "kernelspec": {
      "name": "python3",
      "display_name": "Python 3"
    },
    "language_info": {
      "name": "python"
    }
  },
  "cells": [
    {
      "cell_type": "markdown",
      "metadata": {
        "id": "view-in-github",
        "colab_type": "text"
      },
      "source": [
        "<a href=\"https://colab.research.google.com/github/SUSHMA750/minny/blob/main/Untitled5.ipynb\" target=\"_parent\"><img src=\"https://colab.research.google.com/assets/colab-badge.svg\" alt=\"Open In Colab\"/></a>"
      ]
    },
    {
      "cell_type": "code",
      "execution_count": 1,
      "metadata": {
        "colab": {
          "base_uri": "https://localhost:8080/"
        },
        "id": "kgtcHm5EmUEy",
        "outputId": "b494ad86-1b0c-4904-a9c8-a987cedebb08"
      },
      "outputs": [
        {
          "output_type": "stream",
          "name": "stdout",
          "text": [
            "[17, 15, 4]\n",
            "[10, 12, 9]\n",
            "[11, 13, 18]\n"
          ]
        }
      ],
      "source": [
        "A = [[12,7,3],\n",
        "\n",
        "    [4 ,5,6],\n",
        "\n",
        "    [7 ,8,9]]\n",
        "\n",
        "B = [[5,8,1],\n",
        "\n",
        "    [6,7,3],\n",
        "\n",
        "    [4,5,9]]\n",
        "\n",
        "result = [[0,0,0],\n",
        "\n",
        "         [0,0,0],\n",
        "\n",
        "         [0,0,0]]\n",
        "for x in range(len(A)):\n",
        "   for y in range(len(A[0])):\n",
        "\n",
        "       result[x][y] = A[x][y] + B[x][y]\n",
        "\n",
        "for q in result:\n",
        "\n",
        "   print(q)"
      ]
    }
  ]
}