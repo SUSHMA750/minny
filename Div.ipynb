{
  "nbformat": 4,
  "nbformat_minor": 0,
  "metadata": {
    "colab": {
      "provenance": [],
      "authorship_tag": "ABX9TyMCkOI8e0nUlNOuHHQZSCjj",
      "include_colab_link": true
    },
    "kernelspec": {
      "name": "python3",
      "display_name": "Python 3"
    },
    "language_info": {
      "name": "python"
    }
  },
  "cells": [
    {
      "cell_type": "markdown",
      "metadata": {
        "id": "view-in-github",
        "colab_type": "text"
      },
      "source": [
        "<a href=\"https://colab.research.google.com/github/SUSHMA750/sushma/blob/main/Div.ipynb\" target=\"_parent\"><img src=\"https://colab.research.google.com/assets/colab-badge.svg\" alt=\"Open In Colab\"/></a>"
      ]
    },
    {
      "cell_type": "code",
      "source": [
        "MAX = 100\n",
        "mat = [[0 for x in range(MAX)] for y in range(MAX)]\n",
        "\n",
        "def fill_remaining(i, j, n):\n",
        "    x = 2\n",
        "    for k in range(i + 1, n):\n",
        "        mat[k][j] = x\n",
        "        x += 1\n",
        "    for k in range(i):\n",
        "        mat[k][j] = x\n",
        "        x += 1\n",
        "\n",
        "def constructmatrix(n):\n",
        "    right = n - 1\n",
        "    left = 0\n",
        "    for i in range(n):\n",
        "        if i % 2 == 0:\n",
        "            mat[i][right] = 1\n",
        "            fill_remaining(i, right, n)\n",
        "            right -= 1\n",
        "        else:\n",
        "            mat[i][left] = 1\n",
        "            fill_remaining(i, left, n)\n",
        "            left += 1\n",
        "\n",
        "def divide_matrix(n, divisor):\n",
        "    for i in range(n):\n",
        "        for j in range(n):\n",
        "            if mat[i][j] != 0:\n",
        "                mat[i][j] /= divisor\n",
        "\n",
        "n = 5\n",
        "constructmatrix(n)\n",
        "print(\"Original Matrix:\")\n",
        "for i in range(n):\n",
        "    for j in range(n):\n",
        "        print(mat[i][j], end=' ')\n",
        "    print(' ')\n",
        "divide_matrix(n, 2)\n",
        "\n",
        "print(\"\\nDivided Matrix:\")\n",
        "for i in range(n):\n",
        "    for j in range(n):\n",
        "        print(mat[i][j], end=' ')\n",
        "    print(' ')\n"
      ],
      "metadata": {
        "colab": {
          "base_uri": "https://localhost:8080/"
        },
        "id": "ySJVcDI5Jg7b",
        "outputId": "dc2e244c-308a-4d61-a597-b787b53183cf"
      },
      "execution_count": 2,
      "outputs": [
        {
          "output_type": "stream",
          "name": "stdout",
          "text": [
            "Original Matrix:\n",
            "5 3 2 4 1  \n",
            "1 4 3 5 2  \n",
            "2 5 4 1 3  \n",
            "3 1 5 2 4  \n",
            "4 2 1 3 5  \n",
            "\n",
            "Divided Matrix:\n",
            "2.5 1.5 1.0 2.0 0.5  \n",
            "0.5 2.0 1.5 2.5 1.0  \n",
            "1.0 2.5 2.0 0.5 1.5  \n",
            "1.5 0.5 2.5 1.0 2.0  \n",
            "2.0 1.0 0.5 1.5 2.5  \n"
          ]
        }
      ]
    },
    {
      "cell_type": "code",
      "source": [
        "def count_dividing_digits(N):\n",
        "    def helper(N):\n",
        "        if len(N) == 1:\n",
        "            if int(N) != 0 and int(N) != 1 and int(N) % int(N) == 0:\n",
        "                return 1\n",
        "            else:\n",
        "                return 0\n",
        "        else:\n",
        "            if int(N[0]) != 0 and int(N[0]) != 1 and int(N) % int(N[0]) == 0:\n",
        "                return 1 + helper(N[1:])\n",
        "            else:\n",
        "                return helper(N[1:])\n",
        "    return helper(str(N))\n",
        "\n",
        "N = \"122324\"\n",
        "print(count_dividing_digits(N))"
      ],
      "metadata": {
        "colab": {
          "base_uri": "https://localhost:8080/"
        },
        "id": "gSphGQPzL-GJ",
        "outputId": "f2e3f78e-f084-4b8c-9fd4-fd018e1d7fcf"
      },
      "execution_count": 3,
      "outputs": [
        {
          "output_type": "stream",
          "name": "stdout",
          "text": [
            "5\n"
          ]
        }
      ]
    }
  ]
}