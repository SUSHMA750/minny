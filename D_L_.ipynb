{
  "nbformat": 4,
  "nbformat_minor": 0,
  "metadata": {
    "colab": {
      "provenance": [],
      "toc_visible": true,
      "authorship_tag": "ABX9TyPUUHCX4IX9XIMRYaqrfMtT",
      "include_colab_link": true
    },
    "kernelspec": {
      "name": "python3",
      "display_name": "Python 3"
    },
    "language_info": {
      "name": "python"
    }
  },
  "cells": [
    {
      "cell_type": "markdown",
      "metadata": {
        "id": "view-in-github",
        "colab_type": "text"
      },
      "source": [
        "<a href=\"https://colab.research.google.com/github/SUSHMA750/sushma/blob/main/D_L_.ipynb\" target=\"_parent\"><img src=\"https://colab.research.google.com/assets/colab-badge.svg\" alt=\"Open In Colab\"/></a>"
      ]
    },
    {
      "cell_type": "code",
      "execution_count": null,
      "metadata": {
        "colab": {
          "base_uri": "https://localhost:8080/"
        },
        "id": "kgtcHm5EmUEy",
        "outputId": "b494ad86-1b0c-4904-a9c8-a987cedebb08"
      },
      "outputs": [
        {
          "output_type": "stream",
          "name": "stdout",
          "text": [
            "[17, 15, 4]\n",
            "[10, 12, 9]\n",
            "[11, 13, 18]\n"
          ]
        }
      ],
      "source": [
        "A = [[12,7,3],\n",
        "\n",
        "    [4 ,5,6],\n",
        "\n",
        "    [7 ,8,9]]\n",
        "\n",
        "B = [[5,8,1],\n",
        "\n",
        "    [6,7,3],\n",
        "\n",
        "    [4,5,9]]\n",
        "\n",
        "result = [[0,0,0],\n",
        "\n",
        "         [0,0,0],\n",
        "\n",
        "         [0,0,0]]\n",
        "for x in range(len(A)):\n",
        "   for y in range(len(A[0])):\n",
        "\n",
        "       result[x][y] = A[x][y] + B[x][y]\n",
        "\n",
        "for q in result:\n",
        "\n",
        "   print(q)"
      ]
    },
    {
      "cell_type": "code",
      "source": [
        "MAX = 100\n",
        "mat = [[0 for x in range(MAX)] for y in range(MAX)]\n",
        "\n",
        "def fill_remaining(i, j, n):\n",
        "    x = 2\n",
        "    for k in range(i + 1, n):\n",
        "        mat[k][j] = x\n",
        "        x += 1\n",
        "    for k in range(i):\n",
        "        mat[k][j] = x\n",
        "        x += 1\n",
        "\n",
        "def constructmatrix(n):\n",
        "    right = n - 1\n",
        "    left = 0\n",
        "    for i in range(n):\n",
        "        if i % 2 == 0:\n",
        "            mat[i][right] = 1\n",
        "            fill_remaining(i, right, n)\n",
        "            right -= 1\n",
        "        else:\n",
        "            mat[i][left] = 1\n",
        "            fill_remaining(i, left, n)\n",
        "            left += 1\n",
        "\n",
        "n = 5\n",
        "constructmatrix(n)\n",
        "for i in range(n):\n",
        "    for j in range(n):\n",
        "        print(mat[i][j], end=' ')\n",
        "    print(' ')\n"
      ],
      "metadata": {
        "colab": {
          "base_uri": "https://localhost:8080/"
        },
        "id": "ZL07KToNH8gQ",
        "outputId": "c43e93f6-eae0-465b-ca7d-6c7793fe6f67"
      },
      "execution_count": 10,
      "outputs": [
        {
          "output_type": "stream",
          "name": "stdout",
          "text": [
            "5 3 2 4 1  \n",
            "1 4 3 5 2  \n",
            "2 5 4 1 3  \n",
            "3 1 5 2 4  \n",
            "4 2 1 3 5  \n"
          ]
        }
      ]
    }
  ]
}